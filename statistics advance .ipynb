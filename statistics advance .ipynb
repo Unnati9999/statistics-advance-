{
 "cells": [
  {
   "cell_type": "markdown",
   "id": "1abb2eab-6122-463e-8569-4d4402cc321b",
   "metadata": {},
   "source": [
    "Q1. What is the Probability density function?"
   ]
  },
  {
   "cell_type": "markdown",
   "id": "1238f27c-7d7e-49e0-b899-4072dcdda106",
   "metadata": {},
   "source": [
    " A function that defines the relationship between a random variable and its probability, such that you can find the probability of the variable using the function, is called a Probability Density Function"
   ]
  },
  {
   "cell_type": "code",
   "execution_count": null,
   "id": "e998a88d-2bab-4dfa-8f64-3920aa63c870",
   "metadata": {},
   "outputs": [],
   "source": []
  },
  {
   "cell_type": "markdown",
   "id": "a3c3db9d-da1c-486e-8330-c917f29e87d8",
   "metadata": {},
   "source": [
    "Q2. What are the types of Probability distribution?"
   ]
  },
  {
   "cell_type": "markdown",
   "id": "cf59d972-294e-4b52-8a77-9f5435e376af",
   "metadata": {},
   "source": [
    "The 6 common probability distributions are                              \n",
    "Bernoulli,                                                \n",
    "Uniform,                                                  \n",
    "Binomial,                                               \n",
    "Normal,                                                              \n",
    "Poisson, and                                                                    \n",
    "Exponential Distribution.                                                         "
   ]
  },
  {
   "cell_type": "code",
   "execution_count": null,
   "id": "7509e98c-f1fd-4c3f-99a6-0b77e41cfe20",
   "metadata": {},
   "outputs": [],
   "source": []
  },
  {
   "cell_type": "markdown",
   "id": "0bf3a7fe-45c6-4b01-b485-c6ccd247e1a0",
   "metadata": {},
   "source": [
    "Q3. Write a Python function to calculate the probability density function of a normal distribution with\n",
    "given mean and standard deviation at a given point."
   ]
  },
  {
   "cell_type": "code",
   "execution_count": 1,
   "id": "da6c02e9-010b-4bac-847d-70dd4ba179e2",
   "metadata": {},
   "outputs": [
    {
     "name": "stdout",
     "output_type": "stream",
     "text": [
      "0.0804410163156249\n"
     ]
    }
   ],
   "source": [
    "from scipy.stats import norm \n",
    "import numpy as np \n",
    "\n",
    "data_start = -5\n",
    "data_end = 5\n",
    "data_points = 11\n",
    "data = np.linspace(data_start, data_end, data_points) \n",
    "\n",
    "mean = np.mean(data) \n",
    "std = np.std(data) \n",
    "\n",
    "probability_pdf = norm.pdf(3, loc=mean, scale=std) \n",
    "print(probability_pdf) \n"
   ]
  },
  {
   "cell_type": "code",
   "execution_count": null,
   "id": "7f2807dc-b6ea-465f-938a-1771268b893a",
   "metadata": {},
   "outputs": [],
   "source": []
  },
  {
   "cell_type": "markdown",
   "id": "c86b946c-1a75-4dab-9358-19b3d4e1cd67",
   "metadata": {},
   "source": [
    "Q4. What are the properties of Binomial distribution? Give two examples of events where binomial\n",
    "distribution can be applied."
   ]
  },
  {
   "cell_type": "markdown",
   "id": "20f2c48e-3dfe-4a49-96e1-1e86cccc9ef3",
   "metadata": {},
   "source": [
    "The properties of the binomial distribution are: There are two possible outcomes: true or false, success or failure, yes or no. There is 'n' number of independent trials or a fixed number of n times repeated trials. The probability of success or failure remains the same for each trial"
   ]
  },
  {
   "cell_type": "code",
   "execution_count": null,
   "id": "5212b172-90a6-43e1-9151-f7a33ff6be5e",
   "metadata": {},
   "outputs": [],
   "source": []
  },
  {
   "cell_type": "markdown",
   "id": "86e7e8e0-91af-482c-a12d-cad3c6fffc4d",
   "metadata": {},
   "source": [
    "Q5. Generate a random sample of size 1000 from a binomial distribution with probability of success 0.4\n",
    "and plot a histogram of the results using matplotlib."
   ]
  },
  {
   "cell_type": "code",
   "execution_count": 5,
   "id": "915c596c-dc82-4117-9be2-931193b286aa",
   "metadata": {},
   "outputs": [
    {
     "name": "stdout",
     "output_type": "stream",
     "text": [
      "r\tp(r)\n",
      "0\t0.006046617599999997\n",
      "1\t0.040310783999999975\n",
      "2\t0.12093235199999991\n",
      "3\t0.21499084799999976\n",
      "4\t0.25082265599999987\n",
      "5\t0.20065812479999992\n",
      "6\t0.11147673600000006\n",
      "7\t0.04246732799999996\n",
      "8\t0.010616832000000001\n",
      "9\t0.001572863999999999\n",
      "10\t0.00010485760000000006\n",
      "mean = 4.0\n",
      "variance = 2.4\n"
     ]
    }
   ],
   "source": [
    "from scipy.stats import binom \n",
    "# setting the values \n",
    "# of n and p \n",
    "n = 10\n",
    "p = 0.4\n",
    "# defining the list of r values \n",
    "r_values = list(range(n + 1)) \n",
    "# obtaining the mean and variance \n",
    "mean, var = binom.stats(n, p) \n",
    "# list of pmf values \n",
    "dist = [binom.pmf(r, n, p) for r in r_values ] \n",
    "# printing the table \n",
    "print(\"r\\tp(r)\") \n",
    "for i in range(n + 1): \n",
    "\tprint(str(r_values[i]) + \"\\t\" + str(dist[i])) \n",
    "# printing mean and variance \n",
    "print(\"mean = \"+str(mean)) \n",
    "print(\"variance = \"+str(var))\n"
   ]
  },
  {
   "cell_type": "code",
   "execution_count": null,
   "id": "d2627ca0-b5c4-4a58-bafb-18b9e80de43e",
   "metadata": {},
   "outputs": [],
   "source": []
  },
  {
   "cell_type": "code",
   "execution_count": 6,
   "id": "52d03318-36f9-458b-9307-d03382c2779c",
   "metadata": {},
   "outputs": [
    {
     "data": {
      "image/png": "[encoded data removed]",
      "text/plain": [
       "<Figure size 640x480 with 1 Axes>"
      ]
     },
     "metadata": {},
     "output_type": "display_data"
    }
   ],
   "source": [
    "from scipy.stats import binom \n",
    "import matplotlib.pyplot as plt \n",
    "# setting the values \n",
    "# of n and p \n",
    "n = 1000\n",
    "p = 0.4\n",
    "# defining list of r values \n",
    "r_values = list(range(n + 1)) \n",
    "# list of pmf values \n",
    "dist = [binom.pmf(r, n, p) for r in r_values ] \n",
    "# plotting the graph \n",
    "plt.bar(r_values, dist) \n",
    "plt.show()\n"
   ]
  },
  {
   "cell_type": "code",
   "execution_count": null,
   "id": "7286a585-4d1b-4d04-99b6-e8cb12f2f163",
   "metadata": {},
   "outputs": [],
   "source": []
  },
  {
   "cell_type": "markdown",
   "id": "e515a0d1-477e-4642-90cc-57b4467867f4",
   "metadata": {},
   "source": [
    "Q6. Write a Python function to calculate the cumulative distribution function of a Poisson distribution\n",
    "with given mean at a given point."
   ]
  },
  {
   "cell_type": "code",
   "execution_count": 7,
   "id": "c6cf43d6-e2ca-42ad-a3ea-2cf14ec2c56e",
   "metadata": {},
   "outputs": [
    {
     "data": {
      "text/plain": [
       "<matplotlib.legend.Legend at 0x7fa53a0a0640>"
      ]
     },
     "execution_count": 7,
     "metadata": {},
     "output_type": "execute_result"
    },
    {
     "data": {
      "image/png": "[encoded data removed]",
      "text/plain": [
       "<Figure size 640x480 with 1 Axes>"
      ]
     },
     "metadata": {},
     "output_type": "display_data"
    }
   ],
   "source": [
    "# defining the libraries \n",
    "import numpy as np \n",
    "import matplotlib.pyplot as plt \n",
    "import pandas as pd \n",
    "%matplotlib inline \n",
    "\n",
    "# No of Data points \n",
    "N = 50\n",
    "\n",
    "# initializing random values \n",
    "data = np.random.randn(N) \n",
    "\n",
    "# getting data of the histogram \n",
    "count, bins_count = np.histogram(data, bins=10) \n",
    "\n",
    "# finding the PDF of the histogram using count values \n",
    "pdf = count / sum(count) \n",
    "\n",
    "# using numpy np.cumsum to calculate the CDF \n",
    "# We can also find using the PDF values by looping and adding \n",
    "cdf = np.cumsum(pdf) \n",
    "\n",
    "# plotting PDF and CDF \n",
    "plt.plot(bins_count[1:], pdf, color=\"red\", label=\"PDF\") \n",
    "plt.plot(bins_count[1:], cdf, label=\"CDF\") \n",
    "plt.legend() \n"
   ]
  },
  {
   "cell_type": "code",
   "execution_count": null,
   "id": "bfe8cce3-b570-4bfd-b07d-64043e38ddfe",
   "metadata": {},
   "outputs": [],
   "source": []
  },
  {
   "cell_type": "markdown",
   "id": "1ac0908b-e2f4-4f45-8756-5c82c21063ba",
   "metadata": {},
   "source": [
    "Q7. How Binomial distribution different from Poisson distribution?"
   ]
  },
  {
   "cell_type": "markdown",
   "id": "0e13a4c9-fd4c-415b-819e-a7fc1222aa78",
   "metadata": {},
   "source": [
    "       Binomial Distribution        \t                                   \n",
    "It is biparametric, i.e. it has 2 parameters n and p.                                          \n",
    "The number of attempts are fixed.                                                                       \n",
    "The probability of success is constant.\t                                                                \n",
    "There are only two possible outcomes-Success or failure.                                               \n",
    "Mean>Variance                                                                                         \n",
    "                                                                                               \n",
    "     Poisson Distribution                                              \n",
    "It is uniparametric, i.e. it has only 1 parameter m.                                      \n",
    "The number of attempts are unlimited                                                                        \n",
    "The probability of success is extremely small.                                                     \n",
    "There are unlimited possible outcomes.                                                       \n",
    "Mean=Variance                                                                                 "
   ]
  },
  {
   "cell_type": "code",
   "execution_count": null,
   "id": "c3843e7c-d0c8-46dc-9052-adfbe0ff1f1a",
   "metadata": {},
   "outputs": [],
   "source": []
  },
  {
   "cell_type": "markdown",
   "id": "d0796b26-eb23-4394-8776-4842c5ee5f7c",
   "metadata": {},
   "source": [
    "Q8. Generate a random sample of size 1000 from a Poisson distribution with mean 5 and calculate the\n",
    "sample mean and variance."
   ]
  },
  {
   "cell_type": "code",
   "execution_count": 9,
   "id": "57917873-de37-4eaf-9f29-9c68a8655e1e",
   "metadata": {},
   "outputs": [],
   "source": [
    "import numpy as np\n",
    "s = np.random.poisson(5, 10000)"
   ]
  },
  {
   "cell_type": "markdown",
   "id": "50490f7d-7f8d-4851-8c72-22edc08d37e2",
   "metadata": {},
   "source": [
    "Display histogram of the sample:"
   ]
  },
  {
   "cell_type": "code",
   "execution_count": 10,
   "id": "206192a7-a520-4ef6-99b5-917f262de060",
   "metadata": {},
   "outputs": [
    {
     "data": {
      "image/png": "[encoded data removed]",
      "text/plain": [
       "<Figure size 640x480 with 1 Axes>"
      ]
     },
     "metadata": {},
     "output_type": "display_data"
    }
   ],
   "source": [
    "import matplotlib.pyplot as plt\n",
    "count, bins, ignored = plt.hist(s, 14, density=True)\n",
    "plt.show()"
   ]
  },
  {
   "cell_type": "code",
   "execution_count": null,
   "id": "270ddae9-6cc6-431b-a481-7019189d758c",
   "metadata": {},
   "outputs": [],
   "source": []
  },
  {
   "cell_type": "markdown",
   "id": "924bd6de-f149-4d28-98e3-1e7bcb695d12",
   "metadata": {},
   "source": [
    "Q9. How mean and variance are related in Binomial distribution and Poisson distribution?"
   ]
  },
  {
   "cell_type": "markdown",
   "id": "11f266b3-dea3-4a60-8659-4ed11f41acff",
   "metadata": {},
   "source": [
    "In a binomial distribution, there are only two possible outcomes, i.e. success or failure.                            \n",
    "Conversely, there are an unlimited number of possible outcomes in the case of poisson distribution.                    \n",
    "In binomial distribution Mean > Variance while in poisson distribution mean = variance.                                   \n",
    "                                                                                                  \n",
    "The Poisson distribution has only one parameter, called λ. The mean of a Poisson distribution is λ. The variance of a Poisson distribution is also λ."
   ]
  },
  {
   "cell_type": "code",
   "execution_count": null,
   "id": "b97df59b-cc9f-4833-b3b0-65375b5bff84",
   "metadata": {},
   "outputs": [],
   "source": []
  },
  {
   "cell_type": "markdown",
   "id": "4bf4c0ce-0d56-405e-929c-f696a5d4b1fa",
   "metadata": {},
   "source": [
    "Q10. In normal distribution with respect to mean position, where does the least frequent data appear?"
   ]
  },
  {
   "cell_type": "markdown",
   "id": "a8ea3b0b-05a2-44d0-94e0-7538be062aea",
   "metadata": {},
   "source": [
    "A normal distribution is symmetric about the mean. So, half of the data will be less than the mean and half of the data will be greater than the mean."
   ]
  },
  {
   "cell_type": "code",
   "execution_count": null,
   "id": "b39ee175-57bd-4956-8fdb-3ca104ce889c",
   "metadata": {},
   "outputs": [],
   "source": []
  }
 ],
 "metadata": {
  "kernelspec": {
   "display_name": "Python 3 (ipykernel)",
   "language": "python",
   "name": "python3"
  },
  "language_info": {
   "codemirror_mode": {
    "name": "ipython",
    "version": 3
   },
   "file_extension": ".py",
   "mimetype": "text/x-python",
   "name": "python",
   "nbconvert_exporter": "python",
   "pygments_lexer": "ipython3",
   "version": "3.10.8"
  }
 },
 "nbformat": 4,
 "nbformat_minor": 5
}
